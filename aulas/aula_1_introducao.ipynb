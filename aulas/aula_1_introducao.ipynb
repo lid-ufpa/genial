{
 "cells": [
  {
   "cell_type": "markdown",
   "id": "2e5479bd",
   "metadata": {},
   "source": [
    "<img src=\"https://github.com/lid-ufpa/genial/blob/main/assets/genial-logo-banner-dark.png?raw=true\" style=\"width:100%; height:auto;\">"
   ]
  },
  {
   "cell_type": "markdown",
   "id": "25764d55",
   "metadata": {},
   "source": [
    "# **Aula 1 - Introdução à Otimização Bioinspirada**"
   ]
  },
  {
   "cell_type": "markdown",
   "id": "48c446f4",
   "metadata": {},
   "source": [
    "Seja bem vindo(a) ao curso **Genetic and Evolutionary Nature-Inspired ALgorithms (GENIAL)**.\n",
    "\n",
    "Nesta primeira aula, vamos conhecer os conceitos fundamentais que formam a base de tudo que veremos nas próximas aulas."
   ]
  },
  {
   "cell_type": "markdown",
   "id": "0e120009",
   "metadata": {},
   "source": [
    "## 1.1 O que é Otimização?"
   ]
  },
  {
   "cell_type": "markdown",
   "id": "5413e0f2",
   "metadata": {},
   "source": [
    "<img src=\"https://i.ibb.co/PK6zs05/stop-study.jpg\" style=\"width:100%; height:auto;\">"
   ]
  },
  {
   "cell_type": "markdown",
   "id": "9fc4de57",
   "metadata": {},
   "source": [
    "A **otimização** permeia as nossas vidas sem nem percebermos, estamos constantemente otimizando coisas, desde calcular a rota mais curta entre a sua casa até um ponto de ônibus até a montagem de um cronograma de estudos para maximizar o aprendizado em um tempo limitado. Tudo isso é **otimização**.\n",
    "\n",
    "De forma simples, a otimização se baseia em encontrar a **melhor solução** possível para um problema, dadas certas limtações ou regras.\n",
    "\n",
    "Muitos problemas podem ser formulados como problemas de otimização:\n",
    "\n",
    "- **Maximize** a eficiência, lucro, sustentabilidade... \n",
    "- **Minimize** o uso de combustível, custo, distância de uma viagem... "
   ]
  },
  {
   "cell_type": "markdown",
   "id": "c3254376",
   "metadata": {},
   "source": [
    "### 1.1.1 Componentes de um Problema de Otimização"
   ]
  },
  {
   "cell_type": "markdown",
   "id": "4cf34cf8",
   "metadata": {
    "vscode": {
     "languageId": "plaintext"
    }
   },
   "source": [
    "<img src=\"https://i.ibb.co/ccBXg2R0/knapsack.png\" style=\"width:100%; height:auto;\">"
   ]
  },
  {
   "cell_type": "markdown",
   "id": "504252bd",
   "metadata": {},
   "source": [
    "Todo problema de otimização possui 3 componentes principais, são eles:\n",
    "\n",
    "- **Variáveis de Decisão:** São os valores do problema que podem ser **controlados** e **alterados**.\n",
    "\n",
    "- **Função Objetivo:** É uma expressão matemática que traduz o objetivo principal do modelo. É ela que queremos **otimizar**, ou seja, **maximizar** ou **minimizar**.\n",
    "\n",
    "- **Restrições:** São **regras, limitações ou condições** que a solução do problema deve obedecer.\n",
    "\n",
    "Vamos exemplificar esses conceitos usando o **problema da mochila**, que é um problema clássico da otimização e que nós iremos resolver na próxima aula.\n",
    "\n",
    "Imagine que você tenha um mochila e que queira colocar o máximo de objetos nela sem que ela rasgue, ou seja, o peso total dos objetos deve ser menor do que o peso máximo suportado pela mochila, cada um desses objetos tem um valor de importância e um peso específico.\n",
    "\n",
    "Podemos modelar essa situação da seguinte forma:\n",
    "\n",
    "- **Problema:** Quais itens se deve colocar na mochila?\n",
    "- **Variáveis de Decisão:** Para cada objeto, a decisão será \"levar\" ou \"não levar\".\n",
    "- **Função Objetivo:** Máximizar o valor total de importância dos objetos que estão na mochila.\n",
    "- **Restrição:** O peso total dos objetos presentes na mochila deve ser menor do que o máximo suportado pela mochila. "
   ]
  },
  {
   "cell_type": "markdown",
   "id": "32974d89",
   "metadata": {},
   "source": [
    "## 1.2 Métodos Exatos e Heurísticos"
   ]
  },
  {
   "cell_type": "markdown",
   "id": "1902e796",
   "metadata": {},
   "source": [
    "Quando se trata de problemas de otimização, existem duas abordagem principais: métodos **exatos** e **heurísticos**."
   ]
  },
  {
   "cell_type": "markdown",
   "id": "f57b94ea",
   "metadata": {},
   "source": [
    "### 1.2.1 Métodos Exatos"
   ]
  },
  {
   "cell_type": "markdown",
   "id": "d58dba71",
   "metadata": {},
   "source": [
    "Os métodos exatos são aqueles que garantem encontrar a melhor solução possível para um problema, a chamada **\"solução ótima\"**. Eles fazem isso explorando de forma completa e sistemática todo o espaço de soluções viáveis.\n",
    "\n",
    "**Características Principais:**\n",
    "\n",
    "- **Garantia de Otimalidade**: Se uma solução é encontrada, você tem 100% de certeza de que ela é a melhor possível.\n",
    "\n",
    "- **Completude**: Eles conseguem provar que não existe nenhuma solução melhor do que a que foi encontrada.\n",
    "\n",
    "- **Custo Computacional Elevado**: A principal desvantagem é que, para problemas **complexos e de grande escala**, o tempo necessário para encontrar a solução ótima pode crescer **exponencialmente**, tornando-se inviável na prática. Pode levar horas, dias ou até mesmo séculos."
   ]
  },
  {
   "cell_type": "markdown",
   "id": "8e89ca60",
   "metadata": {},
   "source": [
    "### 1.2.2 Métodos Heurísticos"
   ]
  },
  {
   "cell_type": "markdown",
   "id": "0ef76b06",
   "metadata": {},
   "source": [
    "Para muitos problemas de otimização, o espaço de soluções possíveis é tão vasto que explorá-lo completamente com métodos exatos é **computacionalmente inviável**. Embora garantam encontrar a solução ótima, esses métodos levariam um tempo impraticável, em alguns casos, **bilhões de anos**, tornando impossível sua utilização para obter uma resposta em tempo hábil.\n",
    "\n",
    "Assim, recorremos aos métodos **heurísticos**. Uma heurística serve como uma espécie de \"guia\" para a busca explorar as regiões mais promissoras no espaço de soluções viáveis e encontrar uma **\"boa solução\"** em um tempo útil para um problema. Eles não garantem encontrar a solução ótima, mas são extremamente úteis na prática.\n",
    "\n",
    "**Características Principais:**\n",
    "\n",
    "- **Tempo**: São projetados para encontrar uma boa solução em um tempo útil.\n",
    "- **Sem Garantia de Otimalidade**: A solução encontrada por um método heurístico nem sempre é a melhor solução possível.\n",
    "- **Estocástico**: Muitas heurísticas possuem elementos de aleatoridade."
   ]
  },
  {
   "cell_type": "markdown",
   "id": "cde670e6",
   "metadata": {},
   "source": [
    "## 1.3 O que são as Meta-heurísticas?"
   ]
  },
  {
   "cell_type": "markdown",
   "id": "dba0abcb",
   "metadata": {},
   "source": [
    "## 1.4 Algoritmos Bioinspirados"
   ]
  },
  {
   "cell_type": "markdown",
   "id": "de974886",
   "metadata": {},
   "source": []
  },
  {
   "cell_type": "markdown",
   "id": "6f540e2e",
   "metadata": {},
   "source": [
    "### 1.4.1 Algoritmos Genéticos"
   ]
  },
  {
   "cell_type": "markdown",
   "id": "3e451bdc",
   "metadata": {},
   "source": [
    "### 1.4.2 Otimização por Colônia de Formigas"
   ]
  },
  {
   "cell_type": "markdown",
   "id": "b3e20e37",
   "metadata": {},
   "source": [
    "### 1.4.3 Otimização por Enxame de Partículas"
   ]
  },
  {
   "cell_type": "markdown",
   "id": "bd8cb6ca",
   "metadata": {},
   "source": []
  }
 ],
 "metadata": {
  "language_info": {
   "name": "python"
  }
 },
 "nbformat": 4,
 "nbformat_minor": 5
}
