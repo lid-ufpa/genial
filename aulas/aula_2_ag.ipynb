{
 "cells": [
  {
   "cell_type": "markdown",
   "id": "20774830",
   "metadata": {},
   "source": [
    "<img src=\"https://github.com/lid-ufpa/genial/blob/main/assets/genial-logo-banner-dark.png?raw=true\" style=\"width:100%; height:auto;\">"
   ]
  },
  {
   "cell_type": "markdown",
   "id": "c3508a0f",
   "metadata": {},
   "source": [
    "# **Aula 2 - Algoritmos Genéticos (AG's)**\n"
   ]
  },
  {
   "cell_type": "markdown",
   "id": "d80b65d5",
   "metadata": {},
   "source": [
    "## 2.1 Introdução"
   ]
  },
  {
   "cell_type": "markdown",
   "id": "22112b00",
   "metadata": {},
   "source": [
    "Algoritmos Genéticos (AGs) são uma classe de algoritmos de busca e otimização inspirados pelo processo de seleção natural e evolução biológica. Propostos por John Holland na década de 1970, eles imitam os princípios da genética e da sobrevivência do mais apto para encontrar soluções aproximadas para problemas complexos, especialmente aqueles onde os métodos tradicionais de otimização falham ou são muito lentos.\n",
    "\n",
    "A ideia central é evoluir uma população de soluções candidatas ao longo de várias gerações. A cada geração, os indivíduos mais \"aptos\" (as melhores soluções) têm maior probabilidade de serem selecionados para se reproduzir e transmitir suas características para a próxima geração. Através de operadores genéticos como cruzamento e mutação, novas soluções são criadas, explorando o espaço de busca de forma eficiente e convergindo, idealmente, para uma solução ótima ou próxima da ótima.\n",
    "\n",
    "Eles são particularmente úteis em problemas de:\n",
    "\n",
    "- Otimização (e.g., Problema do Caixeiro Viajante, Problema da Mochila).\n",
    "- Busca em espaços de grande dimensão.\n",
    "- Aprendizado de máquina (e.g., ajuste de hiperparâmetros, seleção de features).\n",
    "- Design e engenharia."
   ]
  },
  {
   "cell_type": "markdown",
   "id": "3211c615",
   "metadata": {},
   "source": [
    "---"
   ]
  },
  {
   "cell_type": "markdown",
   "id": "4354b517",
   "metadata": {},
   "source": [
    "## 2.2 Estrutura de um Algoritmo Genético"
   ]
  },
  {
   "cell_type": "markdown",
   "id": "5fa16436",
   "metadata": {},
   "source": [
    "- **Indivíduo (Cromossomo):** Representa uma única solução candidata para o nosso problema. \n",
    "\n",
    "- **Gene:** É a unidade que compõe um indivíduo.\n",
    "\n",
    "- **População:** É o conjunto de indivíduos (soluções).\n",
    "\n",
    "- **Função de Aptidão (Fitness Function):** É a função que mede a \"qualidade\" de cada indivíduo. Ela atribui um valor a cada solução, indicando o quão boa ela é.\n",
    "\n",
    "- **Geração:** Representa cada iteração do algoritmo."
   ]
  },
  {
   "cell_type": "markdown",
   "id": "f4ae2ddc",
   "metadata": {},
   "source": [
    "---"
   ]
  },
  {
   "cell_type": "markdown",
   "id": "d02e5ac0",
   "metadata": {},
   "source": [
    "## 2.3 Etapas do Algoritmo"
   ]
  },
  {
   "cell_type": "markdown",
   "id": "306cbaa2",
   "metadata": {},
   "source": [
    "**1. Inicialização:**  é criado uma **população inicial** de indivíduos.\n",
    "\n",
    "**2. Avaliação (Cálculo do Fitness):** É aplicado a função de aptidão em cada indíviduo. Dessa forma, é possível qualificar cada uma das soluções.\n",
    "\n",
    "**3. Seleção:** É selecionados os indíviduos que serão os \"pais\" da próxima geração. \n",
    "\n",
    "**4. Cruzamento (Crossover):** Os pais selecionados se \"reproduzem\" e formam novos indivíduos (filhos). \n",
    "\n",
    "**5. Mutação:** É aplicado uma pequena chance de mutação nos filhos. A mutação altera de forma aleatória um ou mais genes de cada indivíduo.\n",
    "\n",
    "**6. Substituição:** Os novos indivíduos (filhos), após o cruzamento e a mutação, substituem parte ou totalmentes os indivíduos da geração anterios, formando uma nova população.\n",
    "\n",
    "**7. Critério de Parada:** O ciclo (etapas de 2 a 6) se repetem até que algum critério de parada seja atingido. Esses critériam geralmente são: um número máximo de gerações, atingir uma solução com um fitness pré-estabelecido ou a população não ter melhorias significativas por determinado número de gerações.\n"
   ]
  },
  {
   "cell_type": "markdown",
   "id": "ccd5a37e",
   "metadata": {},
   "source": [
    "\n",
    "---"
   ]
  },
  {
   "cell_type": "markdown",
   "id": "00aa82bc",
   "metadata": {},
   "source": [
    "## 2.4 Definição Formal\n",
    "\n",
    "Dado um espaço de busca $S$ e uma função de aptidão $f: S \\to \\mathbb{R}$, o objetivo é encontrar uma solução $s^* \\in S$ tal que $f(s^*)$ seja o valor máximo ou mínimo da função.\n",
    "\n",
    "Assim, para um problema de minimização:\n",
    "$$\n",
    "s^* = \\arg \\min_{s \\in S} f(s),\n",
    "$$\n",
    "Para um problema de maximização\n",
    "$$\n",
    "s^* = \\arg \\max_{s \\in S} f(s),\n",
    "$$\n",
    "\n",
    "O processo pode ser resumido da seguinte forma:\n",
    "\n",
    "1. Inicializar uma população $P_{0} = \\{s1, s_{2}, \\dots, s_{n}\\}$ onde cada $s_{i} \\in S$.\n",
    "2. Para $t = 0, 1, 2, \\dots, t_{max}$ faça:\n",
    "\t- Avaliar $P_{t}$: calcular $f(s_{i})$ para todo $s_{i} \\in S$.\n",
    "\t- Selecionar pais $P'_{t}$ de $P_{t}$ com base em seu fitness.\n",
    "\t- Aplicar cruzamento em pares de $P'_{t}$ para gerar um conjunto de filhos $C_{t}$.\n",
    "\t- Aplicar mutação em indivíduos de $C_{t}$ com uma probabilidade $p_{m}$.\n",
    "\t- Criar nova população $P_{t+1}$ substituindo os indivíduos de $P_{t}$ pelos filhos de $C_{t}$.\n",
    "3. Retornar o melhor indivíduo encontrado.\n"
   ]
  },
  {
   "cell_type": "markdown",
   "id": "05abd6e7",
   "metadata": {},
   "source": [
    "\n",
    "--- "
   ]
  },
  {
   "cell_type": "markdown",
   "id": "eb2341af",
   "metadata": {},
   "source": [
    "## 2.5 Exemplo: Aplicação de um AG ao Problema da Mochila"
   ]
  },
  {
   "cell_type": "markdown",
   "id": "a238e91f",
   "metadata": {},
   "source": [
    "Nesta seção, vamos aplicar os conceitos aprendidos sobre AG's para resolver o problema da mochila (KSP). \n",
    "\n",
    "O problema da mochila consite em um conjunto de objetos, em que cada um desses objetos possui um valor e um peso específico, e o nosso objetivo é selecionar o subconjunto de objetos que **maximiza** a soma dos valores mas que o peso total não seja maior que o peso máximo suportado pela mochila. \n",
    "\n",
    "No problema da mochila, é escolhido a **representação binária** dos indivíduos, ou seja, cada um deles é formado por **lista composta por uma sequência de 0s e 1s**. Nesta representação:\n",
    "\n",
    "- O dígito `1` na posição `i` significa que o item `i` foi colocado na mochila.\n",
    "- O dígito `0` na posição `i` significa que o item `i` não foi colocado na mochila. \n",
    "\n",
    "A função fitness usada para medir a qualidade de cada solução (indivíduo) é basicamente a soma dos valores dos objetos presentes na mochila. Contudo, caso o peso total dos objetos ultrapasse o peso máximo suportado pela mochila é aplicada uma **penalidade** ao valor de fitness.\n",
    "\n",
    "Para implementar essa lógica, vamos representar os valores e os pesos como duas listas separadas, em que o índice da lista corresponde a um objeto, o seu valor e o seu peso.\n",
    "\n",
    "- `valores[i]`: armazena o **valor do i-ésimo objeto**.\n",
    "- `peso[i]`: armazena o **peso do i-ésimo objeto**.\n",
    "\n",
    "Por exemplo, considere um problema da mochila com 3 objetos, definidos da seguinte forma:\n",
    "\n",
    "- Valores: `[5, 8, 15]`\n",
    "- Pesos: `[10, 14, 20]`\n",
    "\n",
    "Um indivíduo possível pode ser respresentado pelo valor `[1, 0, 1]`. Em que:\n",
    "\n",
    "- O primeiro objeto foi incluído.\n",
    "- O segunda objeto foi deixado de fora.\n",
    "- O terceiro objeto foi incluído.\n",
    "\n",
    "Assim, o valor de fitness e o peso total dos objetos dessa solução é:\n",
    "\n",
    "- Peso total: $(1 \\times 10) + (0 \\times 14) + (1 \\times 20) = 10 + 20 = 30$\n",
    "- Fitness: $(1 \\times 5) + (0 \\times 8) + (1 \\times 15) = 5 + 15 = 20$\n",
    "\n",
    "Agora em uma visão mais formal, o problema pode ser descrito da seguinte maneira: existe um conjunto $S$ com $N$ objetos, sendo cada objeto $Obj_{i}$ caracterizado por um peso $P_{i}$ e por um valor $V_{i}, i = 1, ..., N$ (todos os pesos e os valores são positivos). Além disso, a mochila tem uma capacidade $C > 0$. O objetivo é encontrar um subconjunto de objetos que satisfaça as seguintes condições:\n",
    "$$\n",
    "\\max \\sum_{i=1}^{N} x_{i} \\times V_{i}\n",
    "$$\n",
    "$$\n",
    "\\text{sujeito a} \\sum_{i=1}^{N} x_{i} \\times P_{i} \\le C\n",
    "$$\n",
    "Nas equações acima, $x_{i} ∈ {0, 1}$ ($x_{i} = 1$ se o $Obj_{i}$ estiver na mochila, $x_{i} = 0$ caso contrário).\n"
   ]
  },
  {
   "cell_type": "markdown",
   "id": "fca1ff48",
   "metadata": {},
   "source": [
    "Agora, iremos codificar passo a passo a implementação do AG ao problema da mochila."
   ]
  },
  {
   "cell_type": "markdown",
   "id": "fb9c0005",
   "metadata": {},
   "source": [
    "### 2.5.1. Importação das bibliotecas necessárias"
   ]
  },
  {
   "cell_type": "code",
   "execution_count": 4,
   "id": "b51d9566",
   "metadata": {},
   "outputs": [],
   "source": [
    "import random\n",
    "from prettytable import PrettyTable"
   ]
  },
  {
   "cell_type": "markdown",
   "id": "5a63c255",
   "metadata": {},
   "source": [
    "### 2.5.2 Definição dos parâmetros e hiperparâmetros"
   ]
  },
  {
   "cell_type": "markdown",
   "id": "6c1ec7e7",
   "metadata": {},
   "source": [
    "Primeiramente, precisamos definir as informações necessárias para o problema e para o algoritmo.\n",
    "\n",
    "- Parâmetros do problema:\n",
    "    - `VALORES` e `PESOS`: Listas que contêm o valor e o peso de cada item.\n",
    "    - `PESO_MAXIMO`: Peso máximo suportado pela mochila.\n",
    "\n",
    "- Hiperparâmetros do algoritmo:\n",
    "    - `TAMANHO_DA_POPULACAO`: Quantos indivíduos teremos por população.\n",
    "    - `TAMANHO_DO_INDIVIDUO`: Quantos genes teremos por indivíduo, cada gene corresponde a um item.\n",
    "    - `GERACOES`: Quantidade de ciclos executados pelo o algoritmo.\n",
    "    - `TAXA_DE_MUTACAO`: A probabilidade de mutação de cada gene sofrer de forma aleatória."
   ]
  },
  {
   "cell_type": "code",
   "execution_count": null,
   "id": "6862af8d",
   "metadata": {},
   "outputs": [],
   "source": [
    "TAMANHO_DA_POPULACAO = 1000\n",
    "TAMANHO_DO_INDIVIDUO = 100\n",
    "PESO_MAXIMO = 1550\n",
    "TAXA_DE_MUTACAO = 0.001\n",
    "GERACOES = 20\n",
    "\n",
    "VALORES = [\n",
    "    74, 16, 58, 35, 72, 15, 77, 52, 28, 63, 45, 19, 66, 40, 23, 81, \n",
    "    12, 50, 31, 68, 37, 54, 25, 79, 43, 60, 21, 48, 70, 33, 64, 27, \n",
    "    56, 39, 75, 18, 62, 47, 29, 76, 14, 53, 36, 67, 24, 49, 71, 32, \n",
    "    59, 42, 78, 17, 55, 38, 73, 20, 51, 69, 34, 61, 26, 57, 44, 80, \n",
    "    13, 65, 30, 46, 22, 63, 41, 11, 50, 77, 10, 54, 35, 72, 19, 48, \n",
    "    66, 31, 58, 45, 82, 15, 60, 37, 74, 28, 52, 69, 25, 47, 64, 33, \n",
    "    59, 43, 76, 21\n",
    "]\n",
    "PESOS = [\n",
    "    91, 20, 81, 50, 76, 30, 85, 65, 44, 70, 60, 25, 88, 55, 33, 95, \n",
    "    18, 62, 42, 75, 51, 68, 39, 90, 58, 72, 29, 64, 82, 47, 78, 40, \n",
    "    71, 54, 89, 26, 77, 63, 45, 84, 22, 69, 52, 80, 37, 61, 83, 48, \n",
    "    73, 57, 92, 24, 67, 53, 86, 28, 66, 79, 49, 74, 41, 70, 59, 94, \n",
    "    19, 76, 46, 60, 34, 75, 56, 17, 65, 87, 16, 68, 50, 81, 27, 62, \n",
    "    78, 43, 72, 61, 93, 23, 71, 52, 85, 38, 67, 80, 36, 63, 77, 44, \n",
    "    70, 58, 88, 32\n",
    "]"
   ]
  },
  {
   "cell_type": "markdown",
   "id": "baf70891",
   "metadata": {},
   "source": [
    "### 2.5.3 Inicialização"
   ]
  },
  {
   "cell_type": "markdown",
   "id": "dcb7ff56",
   "metadata": {},
   "source": [
    "O primeiro passo de qualquer algoritmo genético é criar a população inicial. Esta população é um conjunto de indivíduos, onde cada indivíduo é uma solução para o problema.\n",
    "\n",
    "No nosso caso, os nossos indivíduos serão uma lista de 1s e 0s com o tamanho 100, já que temos 100 itens."
   ]
  },
  {
   "cell_type": "code",
   "execution_count": 33,
   "id": "e5587e70",
   "metadata": {},
   "outputs": [],
   "source": [
    "# Gera um único indivíduo de forma aleatória.\n",
    "def criar_individuo():\n",
    "    return [random.randint(0, 1) for _ in range(TAMANHO_DO_INDIVIDUO)]\n",
    "\n",
    "# Repete o processo de criar um indivíduo por n vezes. Assim teremos uma população inicial com n indivíduos.\n",
    "def criar_populacao():\n",
    "    return [criar_individuo() for _ in range(TAMANHO_DA_POPULACAO)]"
   ]
  },
  {
   "cell_type": "markdown",
   "id": "d870b629",
   "metadata": {},
   "source": [
    "### 2.5.4 Avaliação (Cálculo do Fitness)"
   ]
  },
  {
   "cell_type": "markdown",
   "id": "2af7af08",
   "metadata": {},
   "source": [
    "Agora que temos a nossa população, precisamos medir a qualidade de cada uma das soluções. \n",
    "\n",
    "Recapitulando, a nossa função fitness para o problema da mochila é o somatório dos valores dos objetos presentes na mochila. Entretanto, ao usar essa representação precisamos penalizar aquelas soluções inválidas, que tenham um peso total maior do que o suportado pela mochila.\n",
    "\n",
    "Formalizando tudo isso, temos que o fitness de um indivíduo $S$ é obtido através da seguinte equação:\n",
    "$$\n",
    "Fitness(S) = \\sum_{i=1}^{N} x_{i} \\times V_{i} - Pen(S)\n",
    "$$\n",
    "Em que $x_{i} ∈ {0, 1}$ ($x_{i} = 1$ se o $Obj_{i}$ estiver na mochila, $x_{i} = 0$ caso contrário) e $Pen(S)$ é a penalização associada à solução $S$.\n",
    "\n",
    "A penalização deve sempre ser formulada para obedecer os seguintes princípios: **ser proporcional à violação feita pelo indivíduo, nunca deve compensar ser uma solução inválida e a penalização de um indivíduo válido é igual a 0**. Nesta situação, $Pen(S)$ será uma penalização linear calculada através da equação abaixo:\n",
    "$$\n",
    "Pen(S) = \n",
    "\\begin{cases} \n",
    "0, & \\text{se S legal;} \\\\\n",
    "10 \\times \\rho \\times (\\sum_{i=1}^{N} x_{i} \\times P_{i} - C), & \\text{caso contrário}\n",
    "\\end{cases}\n",
    "$$\n",
    "O valor de $\\rho$ é obtido através da seguinte expressão:\n",
    "$$\n",
    "\\rho = \\max_{i=1,...,N} \\frac{V_i}{P_i}\n",
    "$$\n",
    "\n",
    "Nossa função `fitness` realiza o seguinte processo:\n",
    "\n",
    "1. Calcula o `valor_total` e o `peso_total` dos objetos representados pelo indivíduo (onde o gene é igual a 1).\n",
    "\n",
    "2. Verifica se a solução é válida (se `peso_total` é menor que `PESO_MAXIMO`).\n",
    "\n",
    "3. Se a solução for válida o fitness será simplismente o `valor_total`.\n",
    "\n",
    "4. Caso a solução seja inválida, o fitness será `valor_total` subtraído da penalização `pen`."
   ]
  },
  {
   "cell_type": "code",
   "execution_count": 34,
   "id": "691f741b",
   "metadata": {},
   "outputs": [],
   "source": [
    "def fitness(individuo):\n",
    "    peso_total = 0\n",
    "    valor_total = 0\n",
    "    p = -float('inf')\n",
    "\n",
    "    for gene, valor, peso in zip(individuo, VALORES, PESOS):\n",
    "        valor_total += gene * valor\n",
    "        peso_total += gene * peso\n",
    "\n",
    "        if valor / peso > p:\n",
    "            p = valor / peso\n",
    "\n",
    "    if peso_total < PESO_MAXIMO:\n",
    "        fit = valor_total - 0\n",
    "    else:\n",
    "        # A penalização é proporcional ao quanto o peso foi excedido.\n",
    "        pen = 10 * p * (peso_total - PESO_MAXIMO)\n",
    "        fit = valor_total - pen\n",
    "    \n",
    "    return fit"
   ]
  },
  {
   "cell_type": "markdown",
   "id": "662fc957",
   "metadata": {},
   "source": [
    "### 2.5.5 Seleção"
   ]
  },
  {
   "cell_type": "markdown",
   "id": "97984224",
   "metadata": {},
   "source": [
    "A etapa de seleção simula o princípio da \"sobrevivência dos mais aptos\" de Darwin. Aqui, escolhemos os indivíduos da população atual que servirão de \"pais\" para a próxima geração. Os indivíduos com maior fitness tem maior probabilidade de serem escolhidos e cada indivíduo pode ser escolhido mais de uma vez.\n",
    "\n",
    "Existem vários métodos para a selação dos mais aptos, vamos implementar a **seleção por torneio**.\n",
    "\n",
    "Esse método consiste em:\n",
    "\n",
    "1. Um grupo de indivíduos de tamanho especificado por `tamanho_torneio`, que no nosso caso é 2, é escolhido de forma aleatória. \n",
    "2. Eles competem entre si com base em seus fitness.\n",
    "3. O indivíduo de maior fitness no torneio é será selecionado.\n",
    "\n",
    "Em uma população de $n$ indivíduos, esse processo será repetido $n$ vezes."
   ]
  },
  {
   "cell_type": "code",
   "execution_count": 35,
   "id": "1e3092a7",
   "metadata": {},
   "outputs": [],
   "source": [
    "def selecao(populacao, fitnesses, tamanho_torneio=2):\n",
    "    selecionados = []\n",
    "\n",
    "    for _ in range(len(populacao)):\n",
    "        torneio = random.sample(list(zip(populacao, fitnesses)), tamanho_torneio)\n",
    "        ganhador = max(torneio, key=lambda x: x[1])[0]\n",
    "\n",
    "        # O vencedor é o que tem o maior fitness\n",
    "        selecionados.append(ganhador)\n",
    "    \n",
    "    return selecionados"
   ]
  },
  {
   "cell_type": "markdown",
   "id": "6da57bd8",
   "metadata": {},
   "source": [
    "### 2.5.6 Cruzamento"
   ]
  },
  {
   "cell_type": "markdown",
   "id": "d03c1145",
   "metadata": {},
   "source": [
    "O cruzamento é a etapa em que ocorre a combinação dos genes dos pais para a criação de dois filhos, em que é esperado que esses novos indivíduos herdem as melhores características de ambos os pais.\n",
    "\n",
    "Nós usamos o processo de **cruzamento de ponto único**:\n",
    "\n",
    "1. Depois da etapa de seleção, dois pais são selecionados para o cruzamento.\n",
    "2. Um `ponto_de_corte` é escolhido de forma aleatória, esse ponto de corte representa qual vai ser o tamanho de cada parte dos cromossos dos pais a serem combinados.\n",
    "3. O `filho_1` é criado juntando a primeira parte do `pai_1` (antes de do ponto de corte) coma segunda parte do `pai_2` (depois do ponto de corte).\n",
    "4. O `filho_2` é gerado com a lógica inversa. "
   ]
  },
  {
   "cell_type": "code",
   "execution_count": 36,
   "id": "bf9653b9",
   "metadata": {},
   "outputs": [],
   "source": [
    "def cruzamento(pai_1, pai_2):\n",
    "    # Escolhe um ponto aleatório para dividir os cromossomos\n",
    "    ponto_de_cruzamento = random.randint(0, TAMANHO_DO_INDIVIDUO)\n",
    "\n",
    "    filho_1 = pai_1[:ponto_de_cruzamento] + pai_2[ponto_de_cruzamento:]\n",
    "    filho_2 = pai_2[:ponto_de_cruzamento] + pai_1[ponto_de_cruzamento:]\n",
    "\n",
    "    return filho_1, filho_2"
   ]
  },
  {
   "cell_type": "markdown",
   "id": "53cd429d",
   "metadata": {},
   "source": [
    "### 2.5.7 Mutação"
   ]
  },
  {
   "cell_type": "markdown",
   "id": "1781b620",
   "metadata": {},
   "source": [
    "A mutação é um operador genético que introduz variabilidade na população e que ocorre de forma aleatória de acordo com a `taxa_de_mutacao`.\n",
    "\n",
    "A mutação evita que o algoritmo fique preso em ótimos locais e incentiva ele a explorar mais regiões no espaço de busca.\n",
    "\n",
    "A função `mutação` percorre cada gene do indivíduo e, com uma probabilidade muito pequena, pode inverter o seu valor de `1` para `0` ou `0` para `1`."
   ]
  },
  {
   "cell_type": "code",
   "execution_count": 37,
   "id": "477120a7",
   "metadata": {},
   "outputs": [],
   "source": [
    "def mutacao(individuo):\n",
    "    for i in range(len(individuo)):\n",
    "        if random.random() < TAXA_DE_MUTACAO:\n",
    "            match individuo[i]:\n",
    "                case 1:\n",
    "                    individuo[i] = 0\n",
    "                case 0:\n",
    "                    individuo[i] = 1\n",
    "    return individuo"
   ]
  },
  {
   "cell_type": "markdown",
   "id": "33fd2001",
   "metadata": {},
   "source": [
    "### 2.5.8 Execução"
   ]
  },
  {
   "cell_type": "markdown",
   "id": "4630ec23",
   "metadata": {},
   "source": [
    "Finalmente, a função `algoritmo_genetico` pega todos os processos criados anteriomente e os junta para executar o algoritmo genético aplicado ao problema da mochila.\n",
    "\n",
    "Vamos usar a classe `PrettyTable` da biblioteca `prettytable` para criar uma tabela contendo o melhor fitness por geração. Assim, poderemos ver a evolução das soluções do algoritmo ao decorrer das gerações.\n",
    "\n",
    "O fluxo do algoritmo é: \n",
    "\n",
    "1. **Inicializa** uma população inicial.\n",
    "2. Entra em um loop que se repete pela quantidade de gerações especificada.\n",
    "3. Em cada geração:\n",
    "    - **Avalia** o fitness de todos os indivíduos.\n",
    "    - **Registra** o melhor fitness da geração atual.\n",
    "    - **Seleciona** os pais para o cruzamento.\n",
    "    - Cria a próxima geração aplicando o **cruzamento** nos pais selecionados e a **mutação** nos filhos criados.\n",
    "    - **Substitui** a população antiga pela nova.\n",
    "4. Quando o **critério de parada for atingido**, que nesse caso é a quantidade de gerações, o **melhor indivíduo** encontrado é retornado junto com o seu **fitness**."
   ]
  },
  {
   "cell_type": "code",
   "execution_count": 38,
   "id": "75ba4139",
   "metadata": {},
   "outputs": [],
   "source": [
    "def algoritmo_genetico():\n",
    "    # 1. Inicialização da população inicial\n",
    "    populacao = criar_populacao()\n",
    "    melhor_fitness = 0\n",
    "    melhor_individuo = 0\n",
    "\n",
    "    tabela = PrettyTable(['Geração', 'Melhor fitness'])\n",
    "\n",
    "    for geracao in range(GERACOES):\n",
    "        # 2. Avaliação\n",
    "        fitnesses = [fitness(individuo) for individuo in populacao]\n",
    "\n",
    "        melhor_individuo_da_geracao = max(populacao, key=fitness)\n",
    "        melhor_fitness_da_geracao = fitness(melhor_individuo_da_geracao)\n",
    "\n",
    "        if melhor_fitness_da_geracao > melhor_fitness:\n",
    "            melhor_fitness = melhor_fitness_da_geracao\n",
    "            melhor_individuo = melhor_individuo_da_geracao \n",
    "\n",
    "        tabela.add_row([geracao + 1, melhor_fitness_da_geracao])\n",
    "\n",
    "        # 3. Seleção\n",
    "        individuos_selecionados = selecao(populacao, fitnesses)\n",
    "\n",
    "        proxima_populacao = []\n",
    "\n",
    "        for i in range(0, len(individuos_selecionados), 2):\n",
    "            pai_1 = individuos_selecionados[i]\n",
    "            pai_2 = individuos_selecionados[i + 1]\n",
    "\n",
    "            # 4. Cruzamento\n",
    "            filho_1, filho_2  = cruzamento(pai_1, pai_2)\n",
    "\n",
    "            # 5. Mutação  \n",
    "            proxima_populacao.extend([mutacao(filho_1), mutacao(filho_2)])\n",
    "\n",
    "        # 6. Substituição\n",
    "        populacao = proxima_populacao\n",
    "\n",
    "    print(tabela)\n",
    "\n",
    "    # 7. Critério de parada atingido\n",
    "    return melhor_individuo, melhor_fitness"
   ]
  },
  {
   "cell_type": "markdown",
   "id": "aef9f7df",
   "metadata": {},
   "source": [
    "### 2.5.9 Resultado final"
   ]
  },
  {
   "cell_type": "markdown",
   "id": "559fcc0f",
   "metadata": {},
   "source": [
    "Ao final da execução, é obtido o melhor indivíduo de todas as gerações e o seu fitness.\n",
    "\n",
    "Também é mostrado em formato de tabela todas as gerações e o melhor fitness obtido em cada uma delas."
   ]
  },
  {
   "cell_type": "code",
   "execution_count": 43,
   "id": "36082045",
   "metadata": {},
   "outputs": [
    {
     "name": "stdout",
     "output_type": "stream",
     "text": [
      "+---------+---------------------+\n",
      "| Geração |    Melhor fitness   |\n",
      "+---------+---------------------+\n",
      "|    1    | -3448.9473684210525 |\n",
      "|    2    |  -504.7894736842104 |\n",
      "|    3    | -424.52631578947353 |\n",
      "|    4    |  -1.421052631578732 |\n",
      "|    5    |  662.1052631578948  |\n",
      "|    6    |         1160        |\n",
      "|    7    |         1205        |\n",
      "|    8    |         1204        |\n",
      "|    9    |         1218        |\n",
      "|    10   |         1220        |\n",
      "|    11   |         1233        |\n",
      "|    12   |         1230        |\n",
      "|    13   |         1233        |\n",
      "|    14   |        1242.0       |\n",
      "|    15   |         1249        |\n",
      "|    16   |         1240        |\n",
      "|    17   |         1242        |\n",
      "|    18   |        1254.0       |\n",
      "|    19   |         1245        |\n",
      "|    20   |         1242        |\n",
      "+---------+---------------------+\n",
      "Melhor fitness obtido: 1254.0\n"
     ]
    }
   ],
   "source": [
    "melhor_individuo, melhor_fitness = algoritmo_genetico()\n",
    "print(f'Melhor fitness obtido: {melhor_fitness}')"
   ]
  },
  {
   "cell_type": "markdown",
   "id": "49524d90",
   "metadata": {},
   "source": [
    "---"
   ]
  },
  {
   "cell_type": "markdown",
   "id": "9eaae3f4",
   "metadata": {},
   "source": [
    "## 2.6 Vantagens e Desvantagens"
   ]
  },
  {
   "cell_type": "markdown",
   "id": "56c8b424",
   "metadata": {},
   "source": [
    "### 2.6.1 Vantagens"
   ]
  },
  {
   "cell_type": "markdown",
   "id": "9d70320f",
   "metadata": {},
   "source": [
    "- Ampla Aplicabilidade: Funcionam bem para uma grande variedade de problemas de otimização, especialmente aqueles que são complexos e não-lineares.\n",
    "\n",
    "- Robustez: São menos suscetíveis a ficarem presos em \"ótimos locais\" (soluções que parecem boas, mas não são a melhor globalmente), graças ao mecanismo de mutação e à busca em paralelo com a população.\n",
    "\n",
    "- Paralelismo: A avaliação do fitness de cada indivíduo em uma população é um processo independente, o que o torna ideal para ser executado em sistemas paralelos ou distribuídos.\n",
    "\n",
    "- Simplicidade Conceitual: A ideia fundamental inspirada na natureza é relativamente fácil de entender, mesmo para não especialistas."
   ]
  },
  {
   "cell_type": "markdown",
   "id": "f13013a0",
   "metadata": {},
   "source": [
    "\n",
    "### 2.6.2 Desvantagens"
   ]
  },
  {
   "cell_type": "markdown",
   "id": "2c45f8f5",
   "metadata": {},
   "source": [
    "- Convergência Lenta: Dependendo do problema, podem levar muitas gerações para convergir para uma boa solução, sendo computacionalmente intensivos.\n",
    "\n",
    "- Ajuste de Parâmetros: A performance de um AG é muito sensível aos seus parâmetros (tamanho da população, taxa de mutação). Encontrar a combinação ideal pode ser um desafio.\n",
    "\n",
    "- Sem Garantia de Otimalidade: Por ser um método heurístico (baseado em aproximação), não há garantia de que a solução encontrada será a melhor solução global possível.\n",
    "\n",
    "- Representação do Problema: A etapa mais crucial e, por vezes, mais difícil é definir como representar uma solução (o cromossomo) e como criar uma função de fitness eficaz."
   ]
  }
 ],
 "metadata": {
  "kernelspec": {
   "display_name": ".venv",
   "language": "python",
   "name": "python3"
  },
  "language_info": {
   "codemirror_mode": {
    "name": "ipython",
    "version": 3
   },
   "file_extension": ".py",
   "mimetype": "text/x-python",
   "name": "python",
   "nbconvert_exporter": "python",
   "pygments_lexer": "ipython3",
   "version": "3.13.7"
  }
 },
 "nbformat": 4,
 "nbformat_minor": 5
}
