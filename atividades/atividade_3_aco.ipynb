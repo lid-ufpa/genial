{
 "cells": [
  {
   "cell_type": "markdown",
   "id": "79dc0046",
   "metadata": {
    "vscode": {
     "languageId": "plaintext"
    }
   },
   "source": [
    "# **Atividade 3 - Otimização de Alocação de Projetos com ACO**"
   ]
  },
  {
   "cell_type": "markdown",
   "id": "3ac0c3d7",
   "metadata": {},
   "source": [
    "Uma empresa de tecnologia precisa alocar N programadores em N projetos diferentes. Cada programador apresenta níveis distintos de afinidade e produtividade para cada projeto, resultando em custos diferentes (em horas, por exemplo) para a empresa.  \n",
    "\n",
    "O objetivo é encontrar a alocação ideal, ou seja, designar cada programador a um único projeto de forma que o custo total seja minimizado. Uma alocação de baixo custo significa que cada programador está alocado no projeto que melhor aproveita suas habilidades, otimizando tempo e recursos.\n",
    "\n",
    "No exemplo a seguir, temos 15 programadores** e 15 projetos. A tabela abaixo mostra a matriz de custos, em que cada célula representa o custo de alocar o programador `i` ao projeto `j`:\n",
    "\n",
    "|             | Proj. 1 | Proj. 2 | Proj. 3 | Proj. 4 | Proj. 5 | Proj. 6 | Proj. 7 | Proj. 8 | Proj. 9 | Proj. 10 | Proj. 11 | Proj. 12 | Proj. 13 | Proj. 14 | Proj. 15 |\n",
    "| :---        | :---:   | :---:   | :---:   | :---:   | :---:   | :---:   | :---:   | :---:   | :---:   | :---:    | :---:    | :---:    | :---:    | :---:    | :---:    |\n",
    "| **Prog. 1** | 63 | 17 |  6 | 65 | 21 | 59 | 15 | 11 | 64 | 74 | 31 |106 | 36 | 72 | 56 |\n",
    "| **Prog. 2** | 56 | 10 | 92 | 57 | 43 | 10 | 30 |  5 | 62 | 91 | 44 | 95 | 46 | 66 | 53 |\n",
    "| **Prog. 3** | 52 | 15 | 77 | 51 | 15 | 37 | 14 | 81 | 65 |  7 |  7 | 97 | 48 | 69 | 53 |\n",
    "| **Prog. 4** | 56 | 22 | 78 | 82 | 24 | 58 | 28 | 99 | 60 | 90 | 35 |112 | 53 | 90 | 44 |\n",
    "| **Prog. 5** | 59 | 30 | 75 | 64 | 29 | 59 | 30 |104 | 71 | 98 | 34 | 14 | 35 | 63 | 59 |\n",
    "| **Prog. 6** | 44 | 18 | 54 | 62 | 12 | 38 |  8 | 70 | 49 | 69 | 21 | 80 | 32 | 62 | 29 |\n",
    "| **Prog. 7** | 53 | 29 | 75 | 13 |  5 | 60 | 25 |116 | 67 |110 | 12 | 99 | 42 | 78 | 44 |\n",
    "| **Prog. 8** | 39 | 30 | 85 | 69 |  8 | 62 | 11 | 81 | 58 | 78 | 28 |105 | 25 | 55 | 33 |\n",
    "| **Prog. 9** | 40 | 11 | 73 | 46 | 12 | 40 | 29 | 98 | 57 | 74 | 30 | 10 | 34 | 66 | 53 |\n",
    "| **Prog. 10**| 54 | 48 | 81 | 71 | 27 | 61 | 32 |113 | 56 |106 | 17 |107 | 35 | 73 | 51 |\n",
    "| **Prog. 11**| 10 | 52 | 75 | 68 | 30 | 74 | 34 |109 | 83 | 81 | 25 | 13 | 61 | 88 |  5 |\n",
    "| **Prog. 12**| 41 | 39 | 87 | 55 | 23 | 55 | 33 |105 | 54 | 93 |  8 |103 | 44 | 58 | 57 |\n",
    "| **Prog. 13**| 36 | 12 |  8 | 70 | 41 | 60 | 23 | 88 | 52 | 70 | 10 | 81 | 27 | 78 | 36 |\n",
    "| **Prog. 14**| 80 | 31 | 75 | 77 | 36 | 62 | 42 |105 | 85 |104 | 42 | 99 | 54 | 83 | 72 |\n",
    "| **Prog. 15**| 58 | 43 |  8 | 61 | 47 | 48 | 11 | 84 | 66 | 78 | 26 |105 | 42 | 14 | 50 |\n",
    "\n",
    "## O que deve ser entregue?\n",
    "\n",
    "O grupo deve entregar esse notebook contendo na sessão de \"Solução\":\n",
    "\n",
    "1. Implementação do ACO usando funções ou classes.\n",
    "2. Execução do ACO usando a matriz de custos fornecida no exemplo acima.\n",
    "3. Exibição da melhor alocação encontrada (pares programador–projeto) e seu custo total.\n",
    "4. (Bônus) Breve análise de como os parâmetros `alfa`, `beta` e `taxa_evaporacao` impactam a solução obtida.\n"
   ]
  },
  {
   "cell_type": "markdown",
   "id": "90b020f5",
   "metadata": {},
   "source": [
    "## **Solução**"
   ]
  },
  {
   "cell_type": "markdown",
   "id": "baf57bfc",
   "metadata": {},
   "source": []
  },
  {
   "cell_type": "code",
   "execution_count": null,
   "id": "64a99701",
   "metadata": {},
   "outputs": [],
   "source": []
  }
 ],
 "metadata": {
  "kernelspec": {
   "display_name": "genial",
   "language": "python",
   "name": "python3"
  },
  "language_info": {
   "codemirror_mode": {
    "name": "ipython",
    "version": 3
   },
   "file_extension": ".py",
   "mimetype": "text/x-python",
   "name": "python",
   "nbconvert_exporter": "python",
   "pygments_lexer": "ipython3",
   "version": "3.13.7"
  }
 },
 "nbformat": 4,
 "nbformat_minor": 5
}
