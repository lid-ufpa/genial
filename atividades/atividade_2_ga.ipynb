{
 "cells": [
  {
   "cell_type": "markdown",
   "id": "1e26e630",
   "metadata": {},
   "source": [
    "# **Atividade 2 - Otimização da Alocação de Funcionários com AG**"
   ]
  },
  {
   "cell_type": "markdown",
   "id": "06ba5d1a",
   "metadata": {},
   "source": [
    "Você foi contratado por um supermercado vermelho misterioso em Belém do Pará, a sua primeira tarefa no seu novo emprego de gerente é organizar a alocação de funcionários no próximo sábado, o dia mais movimentado da semana. Você tem uma lista de 15 funcionários disponíveis, cada um com um **custo por turno**, um **nível de experiência** geral e um conjunto de **habilidades específicas**.\n",
    "\n",
    "Seu objetivo é preencher o turno da maneira mais inteligente possível seguindo algumas restrições propostas pelo supermercado.\n",
    "\n",
    "Você deve montar a equipe para o turno de sábado que:\n",
    "\n",
    "1. **Cumpra os Requisitos Mínimos:** O turno precisa ter, no mínimo, 2 caixas, 3 estoquistas e 1 atendente de cliente.\n",
    "    \n",
    "2. **Respeite o Orçamento:** O custo total com os salários dos funcionários escalados não pode ultrapassar o orçamento definido para o turno.\n",
    "    \n",
    "3. **Maximize a Experiência:** Dentre todas as escalas válidas (que cumprem as regras 1 e 2), você quer escolher aquela que tenha o **maior nível de experiência total** somado, garantindo um atendimento de alta qualidade no dia de pico.\n",
    "\n",
    "**Restrições a serem seguidas:**\n",
    "\n",
    "- **Orçamento Máximo para o Turno:** R$ 900\n",
    "    \n",
    "- **Requisitos Mínimos de Habilidades:**\n",
    "\n",
    "    - Caixas: 2\n",
    "        \n",
    "    - Estoquistas: 3\n",
    "        \n",
    "    - Atendentes: 1\n",
    "\n",
    "**Tabela com os dados de cada funcionário:**        \n",
    "\n",
    "| Funcionário | Caixa  | Estoquista  | Atendente | Custo por Turno | Nível de Experiência |\n",
    "|-------------|--------|-------------|-----------|-----------------|----------------------|\n",
    "| 1           | 1      | 1           | 0         | 120             | 8                    |\n",
    "| 2           | 1      | 0           | 1         | 100             | 6                    |\n",
    "| 3           | 1      | 0           | 1         | 150             | 9                    |\n",
    "| 4           | 1      | 0           | 0         | 90              | 5                    |\n",
    "| 5           | 0      | 1           | 0         | 110             | 7                    |         \n",
    "| 6           | 1      | 1           | 1         | 130             | 8                    |\n",
    "| 7           | 0      | 1           | 0         | 80              | 4                    |\n",
    "| 8           | 1      | 1           | 1         | 160             | 10                   |\n",
    "| 9           | 0      | 1           | 0         | 105             | 6                    |\n",
    "| 10          | 0      | 1           | 0         | 125             | 7                    |\n",
    "| 11          | 0      | 1           | 0         | 95              | 5                    |\n",
    "| 12          | 0      | 1           | 1         | 140             | 9                    |\n",
    "| 13          | 1      | 1           | 0         | 115             | 7                    |\n",
    "| 14          | 1      | 0           | 0         | 85              | 4                    |\n",
    "| 15          | 0      | 1           | 1         | 145             | 9                    |\n",
    "\n",
    "### O que deve ser entregue?\n",
    "\n",
    "1. Implementação do algoritmo genéticos usando funções ou classes.\n",
    "2. Quais funcionários (de 0 a 14) foram escalados na sua melhor solução? e qual foi o fitness dessa solução?"
   ]
  },
  {
   "cell_type": "markdown",
   "id": "ba830368",
   "metadata": {},
   "source": [
    "## **Solução**"
   ]
  },
  {
   "cell_type": "markdown",
   "id": "2bf79fb5",
   "metadata": {},
   "source": []
  },
  {
   "cell_type": "code",
   "execution_count": null,
   "id": "d0ed3ea2",
   "metadata": {
    "vscode": {
     "languageId": "plaintext"
    }
   },
   "outputs": [],
   "source": []
  }
 ],
 "metadata": {
  "language_info": {
   "name": "python"
  }
 },
 "nbformat": 4,
 "nbformat_minor": 5
}
