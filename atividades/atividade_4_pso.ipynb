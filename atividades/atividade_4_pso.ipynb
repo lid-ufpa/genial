{
 "cells": [
  {
   "cell_type": "markdown",
   "id": "2cd22d11",
   "metadata": {
    "vscode": {
     "languageId": "plaintext"
    }
   },
   "source": [
    "# **Atividade 4 - Otimização da Localização de Depósito com PSO**"
   ]
  },
  {
   "cell_type": "markdown",
   "id": "8a6e2051",
   "metadata": {
    "vscode": {
     "languageId": "plaintext"
    }
   },
   "source": [
    "Uma empresa deseja abrir um depósito para atender quinze clientes espalhados por uma cidade. Cada cliente possui uma quantidade diferente de produtos que precisa receber semanalmente, ou seja, cada um tem uma demanda distinta. Clientes que precisam de mais produtos são mais importantes na escolha da localização do depósito, pois atrasos ou custos de transporte maiores para eles impactam mais o negócio.  \n",
    "\n",
    "O depósito pode ser instalado em qualquer ponto dentro de uma região delimitada, que vai de 0 a 10 nas coordenadas X e Y. Caso o depósito seja posicionado fora dessa área, haverá uma penalização considerável, pois o local não atende às normas da empresa e acarretaria custos adicionais.  \n",
    "\n",
    "O objetivo da empresa é definir a posição do depósito de forma que a distância total ponderada até todos os clientes seja minimizada, considerando que clientes com maior demanda têm mais peso no cálculo da distância e que a localização precisa respeitar a região permitida.  \n",
    "\n",
    "No exemplo a seguir, temos 15 clientes, a posição $x$ e $y$ dos clientes e suas respectivas demandas.\n",
    "\n",
    "| Cliente | X  | Y  | Demanda |\n",
    "|---------|----|----|---------|\n",
    "| 1       | 2  | 3  | 5       |\n",
    "| 2       | 5  | 8  | 8       |\n",
    "| 3       | 1  | 7  | 4       |\n",
    "| 4       | 6  | 2  | 7       |\n",
    "| 5       | 9  | 4  | 6       |\n",
    "| 6       | 4  | 9  | 9       |\n",
    "| 7       | 3  | 5  | 3       |\n",
    "| 8       | 8  | 1  | 5       |\n",
    "| 9       | 7  | 6  | 8       |\n",
    "| 10      | 2  | 8  | 4       |\n",
    "| 11      | 5  | 1  | 6       |\n",
    "| 12      | 6  | 7  | 7       |\n",
    "| 13      | 3  | 9  | 5       |\n",
    "| 14      | 1  | 4  | 3       |\n",
    "| 15      | 9  | 5  | 8       |\n",
    "\n",
    "## O que deve ser entregue?\n",
    "\n",
    "1. Função objetivo desenvolvida.\n",
    "2. Implementação do PSO usando funções ou classes.\n",
    "3. Execução do PSO usando os dados fornecidos no exemplo acima.\n",
    "4. Exibição da posição ótima do depósito e o valor da função objetivo correspondente.  \n",
    "5. (Bônus) Comentar como a escolha dos parâmetros do PSO influencia o resultado e a convergência do algoritmo."
   ]
  },
  {
   "cell_type": "markdown",
   "id": "10102bbc",
   "metadata": {
    "vscode": {
     "languageId": "plaintext"
    }
   },
   "source": [
    "## **Solução**"
   ]
  },
  {
   "cell_type": "markdown",
   "id": "1969a851",
   "metadata": {},
   "source": []
  },
  {
   "cell_type": "code",
   "execution_count": null,
   "id": "9e91f819",
   "metadata": {},
   "outputs": [],
   "source": []
  }
 ],
 "metadata": {
  "language_info": {
   "name": "python"
  }
 },
 "nbformat": 4,
 "nbformat_minor": 5
}
